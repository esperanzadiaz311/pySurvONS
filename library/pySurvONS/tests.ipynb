{
 "cells": [
  {
   "cell_type": "code",
   "execution_count": 3,
   "metadata": {},
   "outputs": [],
   "source": [
    "import numpy as np\n",
    "import pandas as pd\n",
    "from survONS import SurvONS\n",
    "from utils import date_discretization\n",
    "import matplotlib.pyplot as plt\n",
    "import random\n",
    "\n",
    "p = 0.05\n",
    "df = pd.read_csv(\n",
    "         \"/home/espe/pySurvONS/ventasNIC_censurado2.csv\",\n",
    "         header=0, \n",
    "         skiprows=lambda i: i>0 and random.random() > p\n",
    ")"
   ]
  },
  {
   "cell_type": "code",
   "execution_count": null,
   "metadata": {},
   "outputs": [],
   "source": [
    "i_dates_df = df[[\"anho\", \"mes\", \"dia\"]].rename(columns={\"anho\": \"year\", \"mes\": \"month\", \"dia\": \"day\"})\n",
    "f_dates_df = df[[\"anho_renov\", \"mes_renov\", \"dia_renov\"]].rename(columns={\"anho_renov\": \"year\", \"mes_renov\": \"month\", \"dia_renov\": \"day\"})\n",
    "dates_df = pd.concat([i_dates_df, f_dates_df])\n",
    "dates=date_discretization(pd.to_datetime(dates_df[[\"year\", \"month\", \"day\"]]).to_numpy())\n",
    "print(dates)\n",
    "\n"
   ]
  },
  {
   "cell_type": "code",
   "execution_count": null,
   "metadata": {},
   "outputs": [],
   "source": [
    "df.insert(0, \"initial_time\", dates[0:df.shape[0]])\n",
    "df.insert(19,\"final_time\", dates[df.shape[0]:(df.shape[0]*2)])\n",
    "df.drop(labels=[\"anho\",\"mes\",\"dia\",\"anho_renov\",\"mes_renov\",\"dia_renov\", \"pais_compra\"], axis=1, inplace=True)\n",
    "df.head()"
   ]
  },
  {
   "cell_type": "code",
   "execution_count": null,
   "metadata": {},
   "outputs": [],
   "source": [
    "df[\"pais\"] = pd.Categorical(df[\"pais\"]).codes\n",
    "df[\"moneda\"] = pd.Categorical(df[\"moneda\"]).codes\n",
    "df[\"monto\"] = df[\"monto\"].apply(lambda x: x/10000)\n",
    "df[\"nac_titular\"] = df[\"nac_titular\"].apply(lambda x: x/1000)\n",
    "\n",
    "df.head()\n"
   ]
  },
  {
   "cell_type": "code",
   "execution_count": 7,
   "metadata": {},
   "outputs": [],
   "source": [
    "df.drop(labels=[\"tiempo\", \"time\", \"tiempo_tarifa\", \"nro_duenhos\", \"nro_trans\"], axis=1, inplace=True)"
   ]
  },
  {
   "cell_type": "code",
   "execution_count": null,
   "metadata": {},
   "outputs": [],
   "source": [
    "x = df.drop(labels=[\"final_time\", \"cens\"], axis=1)\n",
    "\n",
    "surv = SurvONS()\n",
    "surv.train(x, df[\"initial_time\"].to_numpy(), df[\"final_time\"].to_numpy(), df[\"cens\"].to_numpy(), diam=2)"
   ]
  },
  {
   "cell_type": "code",
   "execution_count": null,
   "metadata": {},
   "outputs": [],
   "source": [
    "X = x.to_numpy()\n",
    "np.random.shuffle(X)\n",
    "surv.plot(X[0:100], 0, 5000)"
   ]
  },
  {
   "cell_type": "code",
   "execution_count": null,
   "metadata": {},
   "outputs": [],
   "source": [
    "#surv.iterative_train(x, df[\"initial_time\"].to_numpy(), df[\"final_time\"].to_numpy(), df[\"cens\"].to_numpy())\n",
    "#surv.score(df[\"final_time\"].to_numpy(), x.to_numpy(), df[\"cens\"].to_numpy())\n",
    "surv.predict_time(x.to_numpy()[0], 1)\n",
    "print(surv.t_max)\n",
    "#surv.predict(x.to_numpy()[0], 1000, 1)"
   ]
  }
 ],
 "metadata": {
  "kernelspec": {
   "display_name": "venv",
   "language": "python",
   "name": "python3"
  },
  "language_info": {
   "codemirror_mode": {
    "name": "ipython",
    "version": 3
   },
   "file_extension": ".py",
   "mimetype": "text/x-python",
   "name": "python",
   "nbconvert_exporter": "python",
   "pygments_lexer": "ipython3",
   "version": "3.11.0rc1"
  }
 },
 "nbformat": 4,
 "nbformat_minor": 2
}
